{
 "cells": [
  {
   "cell_type": "code",
   "execution_count": 1,
   "id": "f43dfa1a",
   "metadata": {
    "ExecuteTime": {
     "end_time": "2024-02-25T19:44:41.639096Z",
     "start_time": "2024-02-25T19:44:41.634489Z"
    }
   },
   "outputs": [],
   "source": [
    "                                            # Задача 1:\n",
    "    \n",
    "# Написать функцию на языке Python, аргументом которой является целочисленный массив \n",
    "# (список, элементами которого является тип данных int). \n",
    "# Функция должна обработать целочисленный массив и вернуть только уникальные значения \n",
    "# (без дубликатов)  для данного массива c сортировкой по возрастанию."
   ]
  },
  {
   "cell_type": "code",
   "execution_count": 2,
   "id": "69a85c2d",
   "metadata": {
    "ExecuteTime": {
     "end_time": "2024-02-25T19:44:42.262990Z",
     "start_time": "2024-02-25T19:44:42.255767Z"
    }
   },
   "outputs": [],
   "source": [
    "# исходный массив\n",
    "\n",
    "array = [1,5,2,313,0,2] \n",
    "\n",
    "# результирующий массив\n",
    "\n",
    "res_array = [] \n",
    "\n",
    "# функция по сортировке и удалению дубляжей в списке\n",
    "\n",
    "def ch_array(array):\n",
    "    for item in array:\n",
    "        if item not in res_array:\n",
    "            res_array.append(item)\n",
    "    res_array.sort()\n",
    "    return res_array"
   ]
  },
  {
   "cell_type": "code",
   "execution_count": 3,
   "id": "622c9738",
   "metadata": {
    "ExecuteTime": {
     "end_time": "2024-02-25T19:44:42.747094Z",
     "start_time": "2024-02-25T19:44:42.735293Z"
    }
   },
   "outputs": [
    {
     "data": {
      "text/plain": [
       "[0, 1, 2, 5, 313]"
      ]
     },
     "execution_count": 3,
     "metadata": {},
     "output_type": "execute_result"
    }
   ],
   "source": [
    "ch_array(array)"
   ]
  },
  {
   "cell_type": "code",
   "execution_count": 4,
   "id": "2a10080b",
   "metadata": {
    "ExecuteTime": {
     "end_time": "2024-02-25T19:44:43.382315Z",
     "start_time": "2024-02-25T19:44:43.377347Z"
    }
   },
   "outputs": [],
   "source": [
    "                                            # Задача 2:\n",
    "    \n",
    "# Напишите функцию, которая принимает на вход два вектора (2 списка) и рассчитывает \n",
    "# косинусное расстояние полученных векторов и выводит результат вычисления в консоль. \n",
    "# Реализуйте проверку для валидности расчета косинусного расстояния между 2-мя векторами, \n",
    "# в случае если проверка не прошла, вывести в консоль причину почему рассчитать расстояние \n",
    "# между 2-мя векторами невозможно."
   ]
  },
  {
   "cell_type": "code",
   "execution_count": 117,
   "id": "5d64e013",
   "metadata": {
    "ExecuteTime": {
     "end_time": "2024-02-25T20:15:39.152005Z",
     "start_time": "2024-02-25T20:15:39.144982Z"
    }
   },
   "outputs": [],
   "source": [
    "def cos(array_1, array_2):\n",
    "    try:\n",
    "        nominator = 0\n",
    "        denominator_1 = 0\n",
    "        denominator_2 = 0\n",
    "        edited_array_1 = [x ** 2 for x in array_1]\n",
    "        edited_array_2 = [y ** 2 for y in array_2]\n",
    "        for item_1, item_2 in zip(array_1, array_2):\n",
    "            nominator += item_2 * item_1\n",
    "            denominator_1 = sum(edited_array_1) ** (1/2)\n",
    "            denominator_2 = sum(edited_array_2) ** (1/2)\n",
    "        return nominator / (denominator_1 * denominator_2)\n",
    "    except (ZeroDivisionError, TypeError)  as e:\n",
    "        return print('Ошибка в ' + str(e))"
   ]
  },
  {
   "cell_type": "code",
   "execution_count": 119,
   "id": "a40d2966",
   "metadata": {
    "ExecuteTime": {
     "end_time": "2024-02-25T20:15:53.025172Z",
     "start_time": "2024-02-25T20:15:53.020023Z"
    }
   },
   "outputs": [
    {
     "name": "stdout",
     "output_type": "stream",
     "text": [
      "Ошибка в float division by zero\n"
     ]
    }
   ],
   "source": [
    "cos([0,0],[3,-2])"
   ]
  },
  {
   "cell_type": "code",
   "execution_count": 105,
   "id": "7ffa43cf",
   "metadata": {
    "ExecuteTime": {
     "end_time": "2024-02-25T20:09:50.403977Z",
     "start_time": "2024-02-25T20:09:50.400792Z"
    }
   },
   "outputs": [],
   "source": [
    "                                            # Задача 3:\n",
    "    \n",
    "# Реализуйте функцию принимающую 2 аргумента - 2-е даты. Результатом вычисления \n",
    "# функции должна быть разница между 2-й датой и 1-й датов в днях. В случае если \n",
    "# разница принимает негативное значение вывести в консоль абсолютное значение разницы в днях. \n",
    "# Используем стандартный модуль Python для работы с датами datetime (без внешних библиотек)."
   ]
  },
  {
   "cell_type": "code",
   "execution_count": 141,
   "id": "9cc900b4",
   "metadata": {
    "ExecuteTime": {
     "end_time": "2024-02-25T20:42:07.532221Z",
     "start_time": "2024-02-25T20:42:07.528130Z"
    }
   },
   "outputs": [],
   "source": [
    "from datetime import datetime\n",
    "def diff_dates_in_days(dt1, dt2):\n",
    "    dt1 = datetime.strptime(dt1, \"%Y-%m-%d\")\n",
    "    dt2 = datetime.strptime(dt2, \"%Y-%m-%d\")\n",
    "    if (dt1 - dt2).days < 0 :\n",
    "        return print('Абсолютное значение разности дат = ' + str(abs((dt1 - dt2).days)))\n",
    "    return (dt1 - dt2).days"
   ]
  },
  {
   "cell_type": "code",
   "execution_count": 142,
   "id": "892b843d",
   "metadata": {
    "ExecuteTime": {
     "end_time": "2024-02-25T20:42:08.268249Z",
     "start_time": "2024-02-25T20:42:08.264174Z"
    }
   },
   "outputs": [
    {
     "name": "stdout",
     "output_type": "stream",
     "text": [
      "Абсолютное значение разности дат = 32\n"
     ]
    }
   ],
   "source": [
    "diff_dates_in_days('2020-01-01', '2020-02-02')"
   ]
  },
  {
   "cell_type": "code",
   "execution_count": 136,
   "id": "4f660ac7",
   "metadata": {
    "ExecuteTime": {
     "end_time": "2024-02-25T20:34:47.348748Z",
     "start_time": "2024-02-25T20:34:47.345322Z"
    }
   },
   "outputs": [],
   "source": [
    "                                            # Задача 4:\n",
    "    \n",
    "# Реализуйте двусвязный список используя синтаксис языка Python. \n",
    "# Вам необходимо создать класс (либо несколько классов), который \n",
    "# (которые) будет (будут) представлять структуру данных - связный список."
   ]
  },
  {
   "cell_type": "code",
   "execution_count": null,
   "id": "844dad10",
   "metadata": {},
   "outputs": [],
   "source": []
  },
  {
   "cell_type": "code",
   "execution_count": null,
   "id": "bcd34333",
   "metadata": {},
   "outputs": [],
   "source": [
    "                                            # Задача 5:\n",
    "    \n",
    "# Необходимо реализовать функцию, которая принимает на вход данные массива \n",
    "# поисковых запросов и возвращает распределение поисковых запросов по количеству \n",
    "# слов в каждом из запросов в процентах. "
   ]
  },
  {
   "cell_type": "code",
   "execution_count": 178,
   "id": "f5fa3716",
   "metadata": {
    "ExecuteTime": {
     "end_time": "2024-02-25T21:13:22.773550Z",
     "start_time": "2024-02-25T21:13:22.768112Z"
    }
   },
   "outputs": [],
   "source": [
    "search_queries = ['watch new movies', 'coffee near me', 'how to find the determinant',\n",
    "                  'python', 'data science jobs in UK', 'courses for data science', \n",
    "                  'taxi', 'google', 'yandex', 'bing', 'foreign exchange rates USD/BYN',\n",
    "                  'Netflix movies watch online free', 'Statistics courses online from top universities']"
   ]
  },
  {
   "cell_type": "code",
   "execution_count": 192,
   "id": "6acc729d",
   "metadata": {
    "ExecuteTime": {
     "end_time": "2024-02-25T21:15:50.668240Z",
     "start_time": "2024-02-25T21:15:50.661133Z"
    }
   },
   "outputs": [],
   "source": [
    "def words_percent(search_queries):\n",
    "    cn_elements_list = len(search_queries)\n",
    "    storage = {}\n",
    "    for queries in search_queries:\n",
    "        words = queries.split()\n",
    "        if len(words) in storage.keys():\n",
    "            storage[len(words)] += 1\n",
    "        else:\n",
    "            storage.update({\n",
    "                len(words): 1\n",
    "            })\n",
    "    storage = dict(sorted(storage.items()))\n",
    "    for key, value in storage.items():\n",
    "        print(f'{key} слово(а): {round((value / len(search_queries)) * 100, 2)} % ')"
   ]
  },
  {
   "cell_type": "code",
   "execution_count": 193,
   "id": "01c6d638",
   "metadata": {
    "ExecuteTime": {
     "end_time": "2024-02-25T21:15:50.851574Z",
     "start_time": "2024-02-25T21:15:50.844748Z"
    }
   },
   "outputs": [
    {
     "name": "stdout",
     "output_type": "stream",
     "text": [
      "1 слово(а): 38.46 % \n",
      "3 слово(а): 15.38 % \n",
      "4 слово(а): 15.38 % \n",
      "5 слово(а): 23.08 % \n",
      "6 слово(а): 7.69 % \n"
     ]
    }
   ],
   "source": [
    "words_percent(search_queries)"
   ]
  }
 ],
 "metadata": {
  "kernelspec": {
   "display_name": "Python 3 (ipykernel)",
   "language": "python",
   "name": "python3"
  },
  "language_info": {
   "codemirror_mode": {
    "name": "ipython",
    "version": 3
   },
   "file_extension": ".py",
   "mimetype": "text/x-python",
   "name": "python",
   "nbconvert_exporter": "python",
   "pygments_lexer": "ipython3",
   "version": "3.11.5"
  },
  "toc": {
   "base_numbering": 1,
   "nav_menu": {},
   "number_sections": true,
   "sideBar": true,
   "skip_h1_title": false,
   "title_cell": "Table of Contents",
   "title_sidebar": "Contents",
   "toc_cell": false,
   "toc_position": {},
   "toc_section_display": true,
   "toc_window_display": false
  }
 },
 "nbformat": 4,
 "nbformat_minor": 5
}
